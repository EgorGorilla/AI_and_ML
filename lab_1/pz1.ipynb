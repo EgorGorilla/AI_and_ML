{
 "cells": [
  {
   "cell_type": "markdown",
   "id": "48ef8a86-c1b5-4e64-ac98-48512b3df3ac",
   "metadata": {},
   "source": [
    "# Практическое задание №1\n",
    "\n",
    "**Жирный текст**, *Курсивный текст*\n",
    "\n",
    "Маркированный список:\n",
    "- Рябинин\n",
    "- Егор\n",
    "- Алексеевич\n",
    "  \n",
    "Нумерованный список:\n",
    "1. Первый\n",
    "2. Второй\n",
    "3. Третий\n",
    "\n",
    "### Определение обратной матрицы (если детерминант ненулевой):\n",
    "\n",
    "$$ A^{-1} = \\frac{1}{\\det(A)} \\operatorname{adj}(A). $$\n",
    "\n",
    "![Кот](https://avatars.mds.yandex.net/i?id=9e775a13778a56cde6b1496cca92eb70_l-10289922-images-thumbs&n=13)"
   ]
  },
  {
   "cell_type": "code",
   "execution_count": null,
   "id": "9058a9f4-7ab7-4428-8d4e-223e4841007e",
   "metadata": {},
   "outputs": [],
   "source": []
  }
 ],
 "metadata": {
  "kernelspec": {
   "display_name": "Python [conda env:base] *",
   "language": "python",
   "name": "conda-base-py"
  },
  "language_info": {
   "codemirror_mode": {
    "name": "ipython",
    "version": 3
   },
   "file_extension": ".py",
   "mimetype": "text/x-python",
   "name": "python",
   "nbconvert_exporter": "python",
   "pygments_lexer": "ipython3",
   "version": "3.12.7"
  }
 },
 "nbformat": 4,
 "nbformat_minor": 5
}
