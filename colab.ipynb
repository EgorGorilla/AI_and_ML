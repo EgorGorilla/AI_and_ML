{
  "nbformat": 4,
  "nbformat_minor": 0,
  "metadata": {
    "colab": {
      "provenance": [],
      "gpuType": "V28"
    },
    "kernelspec": {
      "name": "python3",
      "display_name": "Python 3"
    },
    "language_info": {
      "name": "python"
    },
    "accelerator": "TPU"
  },
  "cells": [
    {
      "cell_type": "code",
      "source": [
        "from google.colab import drive\n",
        "drive.mount('/content/drive')"
      ],
      "metadata": {
        "id": "0emIR7lcINc4",
        "colab": {
          "base_uri": "https://localhost:8080/"
        },
        "outputId": "6f73ef18-5278-4c5e-e9b5-9ab45046318c"
      },
      "execution_count": 1,
      "outputs": [
        {
          "output_type": "stream",
          "name": "stdout",
          "text": [
            "Mounted at /content/drive\n"
          ]
        }
      ]
    },
    {
      "cell_type": "code",
      "source": [
        "!ls /content/drive/MyDrive"
      ],
      "metadata": {
        "id": "5wlB9RJYRVsq",
        "colab": {
          "base_uri": "https://localhost:8080/"
        },
        "outputId": "5bdf66f2-5f64-465b-b324-5bff8bea612c"
      },
      "execution_count": 2,
      "outputs": [
        {
          "output_type": "stream",
          "name": "stdout",
          "text": [
            "'Colab Notebooks'   ru_windows_7_starter_x86_dvd.iso   Список.gsheet\n"
          ]
        }
      ]
    },
    {
      "cell_type": "code",
      "source": [
        "file_path = \"/content/drive/MyDrive/egor.txt\"\n",
        "with open(file_path,\"w\") as f:\n",
        "  f.write(\"Рябинин\\n\")\n",
        "  f.write(\"Егор\\n\")\n",
        "  f.write(\"Алексеевич\\n\")"
      ],
      "metadata": {
        "id": "zYJiIPrYQV5C"
      },
      "execution_count": 4,
      "outputs": []
    },
    {
      "cell_type": "code",
      "source": [
        "with open(file_path, \"r\") as f:\n",
        "  data = f.read()\n",
        "  print(data)"
      ],
      "metadata": {
        "colab": {
          "base_uri": "https://localhost:8080/"
        },
        "id": "EjGQq68ORGdA",
        "outputId": "92103d6a-34eb-495a-ccaf-6c306b6dbe0b"
      },
      "execution_count": 5,
      "outputs": [
        {
          "output_type": "stream",
          "name": "stdout",
          "text": [
            "Рябинин\n",
            "Егор\n",
            "Алексеевич\n",
            "\n"
          ]
        }
      ]
    },
    {
      "cell_type": "code",
      "source": [
        "cats = [\n",
        "    [\"Кличка\", \"Возраст\", \"Цвет\"],\n",
        "    [\"Барсик\",3 ,\"Черный\"],\n",
        "    [\"Рыжик\",5 ,\"Рыжий\"],\n",
        "    [\"Пушок\", 11, \"Белый\"]\n",
        "]\n",
        "csv_path =\"/content/drive/MyDrive/cats.csv\""
      ],
      "metadata": {
        "id": "iY7_qp8zRj9n"
      },
      "execution_count": 11,
      "outputs": []
    },
    {
      "cell_type": "code",
      "source": [
        "with open(csv_path, \"w\") as f:\n",
        "  for cat in cats:\n",
        "    f.write(\",\".join(map(str, cat)) + \"\\n\")\n",
        "print(\"Файл cats.csv успешно сохранен в Google Drive.\")"
      ],
      "metadata": {
        "colab": {
          "base_uri": "https://localhost:8080/"
        },
        "id": "Zq0wJYE6SPIr",
        "outputId": "a33f3a2b-9a72-4bf6-b7d7-ea699235515c"
      },
      "execution_count": 12,
      "outputs": [
        {
          "output_type": "stream",
          "name": "stdout",
          "text": [
            "Файл cats.csv успешно сохранен в Google Drive.\n"
          ]
        }
      ]
    },
    {
      "cell_type": "code",
      "source": [],
      "metadata": {
        "id": "5Y6XFupDSd1g"
      },
      "execution_count": null,
      "outputs": []
    }
  ]
}